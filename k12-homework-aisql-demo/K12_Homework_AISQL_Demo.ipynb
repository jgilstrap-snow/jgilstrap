{
  "cells": [
    {
      "cell_type": "code",
      "execution_count": null,
      "metadata": {
        "vscode": {
          "languageId": "plaintext"
        }
      },
      "outputs": [],
      "source": [
        "# 🎓 K-12 Homework Analytics with Snowflake Cortex AISQL\n",
        "\n",
        "This notebook demonstrates the powerful new **Cortex AISQL functions** using a realistic K-12 homework management scenario.\n",
        "\n",
        "## 📋 What We'll Cover\n",
        "- **AI_AGG**: Aggregate homework reviews and feedback\n",
        "- **AI_CLASSIFY**: Classify homework sentiment and categories\n",
        "- **AI_COMPLETE**: Generate teacher insights and recommendations\n",
        "- **Complex Joins**: Multi-table analysis across schools, students, and assignments\n",
        "- **Visualizations**: Grade distributions and sentiment analysis\n",
        "\n",
        "## 🏫 Our Scenario\n",
        "We're analyzing data from **Lincoln Elementary School** with:\n",
        "- Multiple grade levels (K-5)\n",
        "- 5 core subjects (Math, Science, English, Social Studies, Art)\n",
        "- ~30 students per class\n",
        "- Homework submissions, grades, and feedback\n"
      ]
    },
    {
      "cell_type": "code",
      "execution_count": null,
      "metadata": {
        "vscode": {
          "languageId": "plaintext"
        }
      },
      "outputs": [],
      "source": [
        "## 🔧 Environment Setup\n",
        "\n",
        "First, let's set up our database and import required libraries.\n"
      ]
    },
    {
      "cell_type": "code",
      "execution_count": null,
      "metadata": {},
      "outputs": [],
      "source": [
        "# Import required libraries\n",
        "import pandas as pd\n",
        "import numpy as np\n",
        "import random\n",
        "from datetime import datetime, timedelta\n",
        "import streamlit as st\n",
        "import plotly.express as px\n",
        "import plotly.graph_objects as go\n",
        "from faker import Faker\n",
        "\n",
        "# Set random seed for reproducibility\n",
        "np.random.seed(42)\n",
        "random.seed(42)\n",
        "fake = Faker()\n",
        "Faker.seed(42)\n",
        "\n",
        "print(\"Libraries imported successfully! 🚀\")\n"
      ]
    },
    {
      "cell_type": "code",
      "execution_count": null,
      "metadata": {},
      "outputs": [],
      "source": [
        "## 🗄️ Database Setup\n",
        "\n",
        "Create our demo database and schema structure.\n"
      ]
    },
    {
      "cell_type": "code",
      "execution_count": null,
      "metadata": {
        "vscode": {
          "languageId": "sql"
        }
      },
      "outputs": [],
      "source": [
        "-- Create demo database and schema\n",
        "CREATE OR REPLACE DATABASE K12_HOMEWORK_DEMO;\n",
        "USE DATABASE K12_HOMEWORK_DEMO;\n",
        "CREATE OR REPLACE SCHEMA EDUCATION_DATA;\n",
        "USE SCHEMA EDUCATION_DATA;\n",
        "\n",
        "-- Confirmation message\n",
        "SELECT 'Database and schema created successfully! 🎉' AS status;\n"
      ]
    },
    {
      "cell_type": "code",
      "execution_count": null,
      "metadata": {
        "vscode": {
          "languageId": "sql"
        }
      },
      "outputs": [],
      "source": [
        "## 📊 Table Creation\n",
        "\n",
        "Let's create our core tables for the K-12 homework system.\n"
      ]
    },
    {
      "cell_type": "code",
      "execution_count": null,
      "metadata": {
        "vscode": {
          "languageId": "sql"
        }
      },
      "outputs": [],
      "source": [
        "-- Create core tables for K-12 homework system\n",
        "\n",
        "-- Schools table\n",
        "CREATE OR REPLACE TABLE schools (\n",
        "    school_id INT PRIMARY KEY,\n",
        "    school_name VARCHAR(100),\n",
        "    district VARCHAR(100),\n",
        "    state VARCHAR(2),\n",
        "    enrollment_count INT\n",
        ");\n",
        "\n",
        "-- Grade levels table\n",
        "CREATE OR REPLACE TABLE grade_levels (\n",
        "    grade_id INT PRIMARY KEY,\n",
        "    grade_name VARCHAR(20),\n",
        "    grade_level INT\n",
        ");\n",
        "\n",
        "-- Subjects table\n",
        "CREATE OR REPLACE TABLE subjects (\n",
        "    subject_id INT PRIMARY KEY,\n",
        "    subject_name VARCHAR(50),\n",
        "    department VARCHAR(50)\n",
        ");\n",
        "\n",
        "-- Students table\n",
        "CREATE OR REPLACE TABLE students (\n",
        "    student_id INT PRIMARY KEY,\n",
        "    school_id INT,\n",
        "    grade_id INT,\n",
        "    first_name VARCHAR(50),\n",
        "    last_name VARCHAR(50),\n",
        "    enrollment_date DATE\n",
        ");\n",
        "\n",
        "-- Classrooms table\n",
        "CREATE OR REPLACE TABLE classrooms (\n",
        "    classroom_id INT PRIMARY KEY,\n",
        "    school_id INT,\n",
        "    grade_id INT,\n",
        "    subject_id INT,\n",
        "    teacher_name VARCHAR(100),\n",
        "    classroom_size INT\n",
        ");\n",
        "\n",
        "-- Homework assignments table\n",
        "CREATE OR REPLACE TABLE homework_assignments (\n",
        "    assignment_id INT PRIMARY KEY,\n",
        "    classroom_id INT,\n",
        "    assignment_name VARCHAR(200),\n",
        "    assignment_type VARCHAR(50),\n",
        "    due_date DATE,\n",
        "    max_points INT,\n",
        "    instructions TEXT\n",
        ");\n",
        "\n",
        "-- Homework submissions table\n",
        "CREATE OR REPLACE TABLE homework_submissions (\n",
        "    submission_id INT PRIMARY KEY,\n",
        "    assignment_id INT,\n",
        "    student_id INT,\n",
        "    submitted_date TIMESTAMP,\n",
        "    grade_received FLOAT,\n",
        "    submission_status VARCHAR(20)\n",
        ");\n",
        "\n",
        "-- Homework feedback table\n",
        "CREATE OR REPLACE TABLE homework_feedback (\n",
        "    feedback_id INT PRIMARY KEY,\n",
        "    submission_id INT,\n",
        "    teacher_feedback TEXT,\n",
        "    student_reflection TEXT,\n",
        "    parent_comment TEXT,\n",
        "    feedback_date TIMESTAMP\n",
        ");\n",
        "\n",
        "SELECT 'All tables created successfully! 📚' AS status;\n"
      ]
    },
    {
      "cell_type": "code",
      "execution_count": null,
      "metadata": {
        "vscode": {
          "languageId": "sql"
        }
      },
      "outputs": [],
      "source": [
        "## 🎲 Data Generation\n",
        "\n",
        "Now let's populate our tables with realistic K-12 homework data.\n"
      ]
    },
    {
      "cell_type": "code",
      "execution_count": null,
      "metadata": {
        "vscode": {
          "languageId": "sql"
        }
      },
      "outputs": [],
      "source": [
        "-- Insert reference data\n",
        "\n",
        "-- Insert school data\n",
        "INSERT INTO schools VALUES (1, 'Lincoln Elementary School', 'Springfield District', 'IL', 450);\n",
        "\n",
        "-- Insert grade levels\n",
        "INSERT INTO grade_levels VALUES \n",
        "    (1, 'Kindergarten', 0),\n",
        "    (2, '1st Grade', 1),\n",
        "    (3, '2nd Grade', 2),\n",
        "    (4, '3rd Grade', 3),\n",
        "    (5, '4th Grade', 4),\n",
        "    (6, '5th Grade', 5);\n",
        "\n",
        "-- Insert subjects\n",
        "INSERT INTO subjects VALUES \n",
        "    (1, 'Mathematics', 'STEM'),\n",
        "    (2, 'Science', 'STEM'),\n",
        "    (3, 'English Language Arts', 'Language Arts'),\n",
        "    (4, 'Social Studies', 'Social Sciences'),\n",
        "    (5, 'Art', 'Fine Arts');\n",
        "\n",
        "-- Verify data insertion\n",
        "SELECT 'Reference data inserted successfully! 📝' AS status;\n",
        "SELECT * FROM schools;\n",
        "SELECT * FROM grade_levels;\n",
        "SELECT * FROM subjects;\n"
      ]
    },
    {
      "cell_type": "code",
      "execution_count": null,
      "metadata": {},
      "outputs": [],
      "source": [
        "# Generate realistic classroom and student data\n",
        "\n",
        "# Teacher names for assignments\n",
        "teacher_names = [\n",
        "    'Ms. Johnson', 'Mr. Smith', 'Mrs. Williams', 'Ms. Brown', 'Mr. Davis',\n",
        "    'Mrs. Miller', 'Ms. Wilson', 'Mr. Moore', 'Mrs. Taylor', 'Ms. Anderson',\n",
        "    'Mr. Thomas', 'Mrs. Jackson', 'Ms. White', 'Mr. Harris', 'Mrs. Martin',\n",
        "    'Ms. Thompson', 'Mr. Garcia', 'Mrs. Martinez', 'Ms. Robinson', 'Mr. Clark',\n",
        "    'Mrs. Rodriguez', 'Ms. Lewis', 'Mr. Lee', 'Mrs. Walker', 'Ms. Hall',\n",
        "    'Mr. Allen', 'Mrs. Young', 'Ms. Hernandez', 'Mr. King', 'Mrs. Wright'\n",
        "]\n",
        "\n",
        "# Generate sample homework feedback\n",
        "homework_feedback_samples = [\n",
        "    \"Great work on this assignment! Your understanding of the concepts is evident.\",\n",
        "    \"Good effort, but please review the instructions more carefully next time.\",\n",
        "    \"Excellent problem-solving approach. Keep up the good work!\",\n",
        "    \"This assignment shows improvement from your previous work.\",\n",
        "    \"Please see me after class to discuss some areas for improvement.\",\n",
        "    \"Outstanding creativity and attention to detail!\",\n",
        "    \"Your work demonstrates solid understanding of the material.\",\n",
        "    \"Good job, but remember to show your work on math problems.\",\n",
        "    \"This assignment reflects careful thought and preparation.\",\n",
        "    \"Well done! Your explanations are clear and thorough.\"\n",
        "]\n",
        "\n",
        "# Generate sample student reflections\n",
        "student_reflections = [\n",
        "    \"I found this assignment challenging but learned a lot.\",\n",
        "    \"I enjoyed working on this project and feel confident about the topic.\",\n",
        "    \"I struggled with some parts but asked for help when needed.\",\n",
        "    \"This assignment helped me understand the material better.\",\n",
        "    \"I spent extra time on this and feel proud of my work.\",\n",
        "    \"I need to practice more on this topic.\",\n",
        "    \"Working on this assignment was fun and educational.\",\n",
        "    \"I found the instructions clear and easy to follow.\",\n",
        "    \"This assignment was difficult but I didn't give up.\",\n",
        "    \"I learned new strategies while working on this.\"\n",
        "]\n",
        "\n",
        "# Generate sample parent comments\n",
        "parent_comments = [\n",
        "    \"Thank you for the detailed feedback on my child's work.\",\n",
        "    \"We appreciate the extra support you provide in class.\",\n",
        "    \"My child really enjoys your subject and talks about it at home.\",\n",
        "    \"Please let us know if there are areas where we can help at home.\",\n",
        "    \"Thank you for encouraging my child to do their best.\",\n",
        "    \"The homework assignments are appropriately challenging.\",\n",
        "    \"We're happy to see our child's progress in this subject.\",\n",
        "    \"Your teaching methods really connect with my child.\",\n",
        "    \"Thank you for being patient and supportive.\",\n",
        "    \"The feedback helps us understand how to support learning at home.\"\n",
        "]\n",
        "\n",
        "print(\"Sample data generated successfully! 🎨\")\n",
        "print(f\"Generated {len(teacher_names)} teacher names\")\n",
        "print(f\"Generated {len(homework_feedback_samples)} feedback samples\")\n",
        "print(f\"Generated {len(student_reflections)} student reflection samples\")\n",
        "print(f\"Generated {len(parent_comments)} parent comment samples\")\n"
      ]
    },
    {
      "cell_type": "code",
      "execution_count": null,
      "metadata": {
        "vscode": {
          "languageId": "sql"
        }
      },
      "outputs": [],
      "source": [
        "-- Insert sample classrooms (30 total: 6 grades × 5 subjects)\n",
        "INSERT INTO classrooms VALUES\n",
        "(1, 1, 1, 1, 'Ms. Johnson', 28), (2, 1, 1, 2, 'Mr. Smith', 30), (3, 1, 1, 3, 'Mrs. Williams', 29), (4, 1, 1, 4, 'Ms. Brown', 31), (5, 1, 1, 5, 'Mr. Davis', 27),\n",
        "(6, 1, 2, 1, 'Mrs. Miller', 32), (7, 1, 2, 2, 'Ms. Wilson', 28), (8, 1, 2, 3, 'Mr. Moore', 30), (9, 1, 2, 4, 'Mrs. Taylor', 29), (10, 1, 2, 5, 'Ms. Anderson', 31),\n",
        "(11, 1, 3, 1, 'Mr. Thomas', 33), (12, 1, 3, 2, 'Mrs. Jackson', 29), (13, 1, 3, 3, 'Ms. White', 30), (14, 1, 3, 4, 'Mr. Harris', 28), (15, 1, 3, 5, 'Mrs. Martin', 32),\n",
        "(16, 1, 4, 1, 'Ms. Thompson', 31), (17, 1, 4, 2, 'Mr. Garcia', 29), (18, 1, 4, 3, 'Mrs. Martinez', 30), (19, 1, 4, 4, 'Ms. Robinson', 28), (20, 1, 4, 5, 'Mr. Clark', 33),\n",
        "(21, 1, 5, 1, 'Mrs. Rodriguez', 30), (22, 1, 5, 2, 'Ms. Lewis', 29), (23, 1, 5, 3, 'Mr. Lee', 31), (24, 1, 5, 4, 'Mrs. Walker', 28), (25, 1, 5, 5, 'Ms. Hall', 32),\n",
        "(26, 1, 6, 1, 'Mr. Allen', 30), (27, 1, 6, 2, 'Mrs. Young', 29), (28, 1, 6, 3, 'Ms. Hernandez', 31), (29, 1, 6, 4, 'Mr. King', 28), (30, 1, 6, 5, 'Mrs. Wright', 33);\n",
        "\n",
        "-- Insert sample students (30 per grade level)\n",
        "INSERT INTO students VALUES\n",
        "-- Kindergarten students\n",
        "(1, 1, 1, 'Emma', 'Smith', '2023-08-15'), (2, 1, 1, 'Liam', 'Johnson', '2023-08-16'), (3, 1, 1, 'Olivia', 'Williams', '2023-08-17'), (4, 1, 1, 'Noah', 'Brown', '2023-08-18'), (5, 1, 1, 'Ava', 'Jones', '2023-08-19'),\n",
        "(6, 1, 1, 'Ethan', 'Garcia', '2023-08-20'), (7, 1, 1, 'Sophia', 'Miller', '2023-08-21'), (8, 1, 1, 'Mason', 'Davis', '2023-08-22'), (9, 1, 1, 'Isabella', 'Rodriguez', '2023-08-23'), (10, 1, 1, 'William', 'Martinez', '2023-08-24'),\n",
        "(11, 1, 1, 'Mia', 'Hernandez', '2023-08-25'), (12, 1, 1, 'James', 'Lopez', '2023-08-26'), (13, 1, 1, 'Charlotte', 'Gonzalez', '2023-08-27'), (14, 1, 1, 'Benjamin', 'Wilson', '2023-08-28'), (15, 1, 1, 'Amelia', 'Anderson', '2023-08-29'),\n",
        "(16, 1, 1, 'Jacob', 'Thomas', '2023-08-30'), (17, 1, 1, 'Harper', 'Taylor', '2023-08-31'), (18, 1, 1, 'Michael', 'Moore', '2023-09-01'), (19, 1, 1, 'Evelyn', 'Jackson', '2023-09-02'), (20, 1, 1, 'Elijah', 'Martin', '2023-09-03'),\n",
        "(21, 1, 1, 'Abigail', 'Lee', '2023-09-04'), (22, 1, 1, 'Owen', 'Perez', '2023-09-05'), (23, 1, 1, 'Emily', 'Thompson', '2023-09-06'), (24, 1, 1, 'Alexander', 'White', '2023-09-07'), (25, 1, 1, 'Elizabeth', 'Harris', '2023-09-08'),\n",
        "(26, 1, 1, 'Daniel', 'Sanchez', '2023-09-09'), (27, 1, 1, 'Mila', 'Clark', '2023-09-10'), (28, 1, 1, 'Lucas', 'Ramirez', '2023-09-11'), (29, 1, 1, 'Ella', 'Lewis', '2023-09-12'), (30, 1, 1, 'Matthew', 'Robinson', '2023-09-13');\n",
        "\n",
        "-- Insert students for other grades (abbreviated for demo)\n",
        "INSERT INTO students VALUES\n",
        "-- 1st Grade\n",
        "(31, 1, 2, 'Grace', 'Walker', '2023-08-15'), (32, 1, 2, 'Henry', 'Young', '2023-08-16'), (33, 1, 2, 'Zoey', 'Allen', '2023-08-17'), (34, 1, 2, 'Jack', 'King', '2023-08-18'), (35, 1, 2, 'Lily', 'Wright', '2023-08-19'),\n",
        "(36, 1, 2, 'Ryan', 'Scott', '2023-08-20'), (37, 1, 2, 'Chloe', 'Green', '2023-08-21'), (38, 1, 2, 'Connor', 'Adams', '2023-08-22'), (39, 1, 2, 'Aria', 'Baker', '2023-08-23'), (40, 1, 2, 'Hunter', 'Hill', '2023-08-24'),\n",
        "(41, 1, 2, 'Layla', 'Nelson', '2023-08-25'), (42, 1, 2, 'Wyatt', 'Carter', '2023-08-26'), (43, 1, 2, 'Zoe', 'Mitchell', '2023-08-27'), (44, 1, 2, 'Caleb', 'Roberts', '2023-08-28'), (45, 1, 2, 'Nora', 'Turner', '2023-08-29'),\n",
        "(46, 1, 2, 'Luke', 'Phillips', '2023-08-30'), (47, 1, 2, 'Stella', 'Campbell', '2023-08-31'), (48, 1, 2, 'Nathan', 'Parker', '2023-09-01'), (49, 1, 2, 'Hazel', 'Evans', '2023-09-02'), (50, 1, 2, 'Isaac', 'Edwards', '2023-09-03'),\n",
        "(51, 1, 2, 'Violet', 'Collins', '2023-09-04'), (52, 1, 2, 'Grayson', 'Stewart', '2023-09-05'), (53, 1, 2, 'Aurora', 'Sanchez', '2023-09-06'), (54, 1, 2, 'Leo', 'Morris', '2023-09-07'), (55, 1, 2, 'Savannah', 'Rogers', '2023-09-08'),\n",
        "(56, 1, 2, 'Ezra', 'Reed', '2023-09-09'), (57, 1, 2, 'Brooklyn', 'Cook', '2023-09-10'), (58, 1, 2, 'Mateo', 'Morgan', '2023-09-11'), (59, 1, 2, 'Bella', 'Bell', '2023-09-12'), (60, 1, 2, 'Aiden', 'Murphy', '2023-09-13');\n",
        "\n",
        "-- Continue with grades 2-5 (abbreviated)\n",
        "INSERT INTO students VALUES\n",
        "-- 2nd Grade\n",
        "(61, 1, 3, 'Luna', 'Bailey', '2023-08-15'), (62, 1, 3, 'Jayden', 'Rivera', '2023-08-16'), (63, 1, 3, 'Penelope', 'Cooper', '2023-08-17'), (64, 1, 3, 'Sebastian', 'Richardson', '2023-08-18'), (65, 1, 3, 'Leah', 'Cox', '2023-08-19'),\n",
        "(66, 1, 3, 'Jaxon', 'Howard', '2023-08-20'), (67, 1, 3, 'Addison', 'Ward', '2023-08-21'), (68, 1, 3, 'Brayden', 'Torres', '2023-08-22'), (69, 1, 3, 'Aubrey', 'Peterson', '2023-08-23'), (70, 1, 3, 'Ian', 'Gray', '2023-08-24'),\n",
        "(71, 1, 3, 'Skylar', 'Ramirez', '2023-08-25'), (72, 1, 3, 'Carson', 'James', '2023-08-26'), (73, 1, 3, 'Paisley', 'Watson', '2023-08-27'), (74, 1, 3, 'Jordan', 'Brooks', '2023-08-28'), (75, 1, 3, 'Naomi', 'Kelly', '2023-08-29'),\n",
        "(76, 1, 3, 'Easton', 'Sanders', '2023-08-30'), (77, 1, 3, 'Peyton', 'Price', '2023-08-31'), (78, 1, 3, 'Kai', 'Bennett', '2023-09-01'), (79, 1, 3, 'Kinsley', 'Wood', '2023-09-02'), (80, 1, 3, 'Colton', 'Barnes', '2023-09-03'),\n",
        "(81, 1, 3, 'Willow', 'Ross', '2023-09-04'), (82, 1, 3, 'Levi', 'Henderson', '2023-09-05'), (83, 1, 3, 'Ruby', 'Coleman', '2023-09-06'), (84, 1, 3, 'Maverick', 'Jenkins', '2023-09-07'), (85, 1, 3, 'Piper', 'Perry', '2023-09-08'),\n",
        "(86, 1, 3, 'Asher', 'Powell', '2023-09-09'), (87, 1, 3, 'Ivy', 'Long', '2023-09-10'), (88, 1, 3, 'Jace', 'Patterson', '2023-09-11'), (89, 1, 3, 'Genesis', 'Hughes', '2023-09-12'), (90, 1, 3, 'Ryder', 'Flores', '2023-09-13');\n",
        "\n",
        "SELECT 'Sample data inserted successfully! 🎒' AS status;\n",
        "SELECT COUNT(*) as classroom_count FROM classrooms;\n",
        "SELECT COUNT(*) as student_count FROM students;\n"
      ]
    },
    {
      "cell_type": "code",
      "execution_count": null,
      "metadata": {
        "vscode": {
          "languageId": "sql"
        }
      },
      "outputs": [],
      "source": [
        "-- Insert homework assignments and submissions with feedback\n",
        "INSERT INTO homework_assignments VALUES\n",
        "-- Math assignments\n",
        "(1, 1, 'Basic Addition Practice', 'Worksheet', '2024-01-15', 20, 'Complete addition problems 1-20'),\n",
        "(2, 6, 'Multiplication Tables', 'Homework', '2024-01-20', 25, 'Practice multiplication tables 1-12'),\n",
        "(3, 11, 'Fraction Worksheets', 'Worksheet', '2024-01-18', 30, 'Solve fraction problems and show work'),\n",
        "-- Science assignments\n",
        "(4, 2, 'Plant Growth Observation', 'Project', '2024-01-25', 40, 'Observe and record plant growth daily'),\n",
        "(5, 7, 'Weather Tracking', 'Project', '2024-01-22', 35, 'Track weather patterns for one week'),\n",
        "(6, 12, 'Simple Machines', 'Homework', '2024-01-19', 25, 'Identify simple machines in everyday objects'),\n",
        "-- English assignments\n",
        "(7, 3, 'Reading Comprehension', 'Worksheet', '2024-01-16', 30, 'Read passage and answer questions'),\n",
        "(8, 8, 'Creative Writing', 'Project', '2024-01-24', 45, 'Write a short story about your favorite animal'),\n",
        "(9, 13, 'Grammar Practice', 'Homework', '2024-01-21', 20, 'Complete grammar exercises in workbook'),\n",
        "-- Social Studies assignments\n",
        "(10, 4, 'Community Helpers', 'Project', '2024-01-26', 35, 'Research and present on a community helper'),\n",
        "(11, 9, 'State History', 'Homework', '2024-01-23', 30, 'Learn about Illinois state history'),\n",
        "(12, 14, 'Map Skills', 'Worksheet', '2024-01-17', 25, 'Practice reading maps and using compass directions'),\n",
        "-- Art assignments\n",
        "(13, 5, 'Color Theory', 'Project', '2024-01-27', 40, 'Create artwork demonstrating primary and secondary colors'),\n",
        "(14, 10, 'Drawing Techniques', 'Homework', '2024-01-20', 30, 'Practice different drawing techniques'),\n",
        "(15, 15, 'Sculpture Project', 'Project', '2024-01-28', 50, 'Create a sculpture using recyclable materials');\n",
        "\n",
        "-- Insert sample homework submissions\n",
        "INSERT INTO homework_submissions VALUES\n",
        "-- Math submissions\n",
        "(1, 1, 1, '2024-01-15 10:30:00', 85.0, 'Completed'),\n",
        "(2, 1, 2, '2024-01-15 11:15:00', 92.5, 'Completed'),\n",
        "(3, 1, 3, '2024-01-15 09:45:00', 78.0, 'Completed'),\n",
        "(4, 2, 31, '2024-01-20 14:20:00', 88.0, 'Completed'),\n",
        "(5, 2, 32, '2024-01-20 15:10:00', 95.0, 'Completed'),\n",
        "(6, 3, 61, '2024-01-18 13:30:00', 82.5, 'Completed'),\n",
        "-- Science submissions\n",
        "(7, 4, 1, '2024-01-25 16:45:00', 90.0, 'Completed'),\n",
        "(8, 4, 2, '2024-01-25 17:20:00', 87.5, 'Completed'),\n",
        "(9, 5, 31, '2024-01-22 12:30:00', 93.0, 'Completed'),\n",
        "(10, 6, 61, '2024-01-19 11:45:00', 85.5, 'Completed'),\n",
        "-- English submissions\n",
        "(11, 7, 1, '2024-01-16 08:30:00', 88.5, 'Completed'),\n",
        "(12, 8, 31, '2024-01-24 19:15:00', 96.0, 'Completed'),\n",
        "(13, 9, 61, '2024-01-21 14:45:00', 91.5, 'Completed'),\n",
        "-- Social Studies submissions\n",
        "(14, 10, 1, '2024-01-26 16:00:00', 89.0, 'Completed'),\n",
        "(15, 11, 31, '2024-01-23 13:20:00', 84.5, 'Completed'),\n",
        "-- Art submissions\n",
        "(16, 13, 1, '2024-01-27 15:30:00', 94.0, 'Completed'),\n",
        "(17, 14, 31, '2024-01-20 18:45:00', 87.0, 'Completed'),\n",
        "(18, 15, 61, '2024-01-28 10:15:00', 92.5, 'Completed');\n",
        "\n",
        "-- Insert sample feedback\n",
        "INSERT INTO homework_feedback VALUES\n",
        "(1, 1, 'Great work on this assignment! Your understanding of addition is evident.', 'I found this assignment easy and enjoyed doing the math problems.', 'Thank you for the clear instructions and positive feedback.', '2024-01-16 09:00:00'),\n",
        "(2, 2, 'Excellent problem-solving approach. Keep up the good work!', 'I enjoyed working on this project and feel confident about addition.', 'We appreciate the detailed feedback on my child''s work.', '2024-01-16 09:30:00'),\n",
        "(3, 3, 'Good effort, but please review the instructions more carefully next time.', 'I struggled with some parts but asked for help when needed.', 'Please let us know if there are areas where we can help at home.', '2024-01-16 10:00:00'),\n",
        "(4, 4, 'Outstanding work on your multiplication tables!', 'I spent extra time practicing and feel proud of my work.', 'The homework assignments are appropriately challenging.', '2024-01-21 08:30:00'),\n",
        "(5, 7, 'Your plant observation skills are impressive. Well documented!', 'This assignment helped me understand how plants grow.', 'My child really enjoys science and talks about it at home.', '2024-01-26 14:00:00'),\n",
        "(6, 11, 'Creative and well-written story! You have a great imagination.', 'Working on this assignment was fun and I learned new words.', 'Thank you for encouraging creativity in your assignments.', '2024-01-17 11:30:00'),\n",
        "(7, 12, 'Excellent creative writing! Your story was engaging and well-structured.', 'I enjoyed writing about my favorite animal and creating the story.', 'Your teaching methods really connect with my child.', '2024-01-25 16:00:00'),\n",
        "(8, 14, 'Good presentation on community helpers. Clear and informative.', 'I learned a lot about how firefighters help our community.', 'We''re happy to see our child''s progress in social studies.', '2024-01-27 10:45:00'),\n",
        "(9, 16, 'Beautiful artwork! Your understanding of color theory is excellent.', 'I had fun mixing colors and creating my artwork.', 'Thank you for fostering artistic expression in your class.', '2024-01-28 13:20:00'),\n",
        "(10, 18, 'Creative sculpture project! Great use of recyclable materials.', 'This project was challenging but I didn''t give up and made something cool.', 'The feedback helps us understand how to support learning at home.', '2024-01-29 15:45:00');\n",
        "\n",
        "SELECT 'All homework data inserted successfully! 📝' AS status;\n",
        "SELECT COUNT(*) as assignment_count FROM homework_assignments;\n",
        "SELECT COUNT(*) as submission_count FROM homework_submissions;\n",
        "SELECT COUNT(*) as feedback_count FROM homework_feedback;\n"
      ]
    },
    {
      "cell_type": "code",
      "execution_count": null,
      "metadata": {
        "vscode": {
          "languageId": "sql"
        }
      },
      "outputs": [],
      "source": [
        "## 🎯 Cortex AISQL Demonstrations\n",
        "\n",
        "Now let's demonstrate the power of Snowflake's Cortex AISQL functions!\n"
      ]
    },
    {
      "cell_type": "code",
      "execution_count": null,
      "metadata": {
        "vscode": {
          "languageId": "sql"
        }
      },
      "outputs": [],
      "source": [
        "### 📊 Before AISQL: Traditional Data Analysis\n",
        "\n",
        "Let's first look at our raw data to understand what we're working with.\n"
      ]
    },
    {
      "cell_type": "code",
      "execution_count": null,
      "metadata": {
        "vscode": {
          "languageId": "sql"
        }
      },
      "outputs": [],
      "source": [
        "-- Let's see our homework feedback data (before AI processing)\n",
        "SELECT \n",
        "    hf.feedback_id,\n",
        "    s.first_name || ' ' || s.last_name as student_name,\n",
        "    sub.subject_name,\n",
        "    gl.grade_name,\n",
        "    ha.assignment_name,\n",
        "    hs.grade_received,\n",
        "    hf.teacher_feedback,\n",
        "    hf.student_reflection,\n",
        "    hf.parent_comment\n",
        "FROM homework_feedback hf\n",
        "JOIN homework_submissions hs ON hf.submission_id = hs.submission_id\n",
        "JOIN homework_assignments ha ON hs.assignment_id = ha.assignment_id\n",
        "JOIN classrooms c ON ha.classroom_id = c.classroom_id\n",
        "JOIN students s ON hs.student_id = s.student_id\n",
        "JOIN subjects sub ON c.subject_id = sub.subject_id\n",
        "JOIN grade_levels gl ON s.grade_id = gl.grade_id\n",
        "ORDER BY hf.feedback_id\n",
        "LIMIT 10;\n"
      ]
    },
    {
      "cell_type": "code",
      "execution_count": null,
      "metadata": {
        "vscode": {
          "languageId": "sql"
        }
      },
      "outputs": [],
      "source": [
        "### 🤖 AI_AGG Function: Intelligent Data Aggregation\n",
        "\n",
        "**AI_AGG** allows us to aggregate text data using natural language instructions, perfect for summarizing feedback and reviews.\n"
      ]
    },
    {
      "cell_type": "code",
      "execution_count": null,
      "metadata": {
        "vscode": {
          "languageId": "sql"
        }
      },
      "outputs": [],
      "source": [
        "-- Using AI_AGG to summarize teacher feedback by subject\n",
        "SELECT \n",
        "    sub.subject_name,\n",
        "    COUNT(*) as total_feedback,\n",
        "    AI_AGG(hf.teacher_feedback, 'Summarize the main themes and concerns from teacher feedback') as feedback_summary,\n",
        "    AI_AGG(hf.student_reflection, 'What are students saying about their learning experience?') as student_insights\n",
        "FROM homework_feedback hf\n",
        "JOIN homework_submissions hs ON hf.submission_id = hs.submission_id\n",
        "JOIN homework_assignments ha ON hs.assignment_id = ha.assignment_id\n",
        "JOIN classrooms c ON ha.classroom_id = c.classroom_id\n",
        "JOIN subjects sub ON c.subject_id = sub.subject_id\n",
        "WHERE hf.teacher_feedback IS NOT NULL\n",
        "GROUP BY sub.subject_name\n",
        "ORDER BY total_feedback DESC;\n"
      ]
    },
    {
      "cell_type": "code",
      "execution_count": null,
      "metadata": {
        "vscode": {
          "languageId": "sql"
        }
      },
      "outputs": [],
      "source": [
        "-- Using AI_AGG to analyze parent engagement by grade level\n",
        "SELECT \n",
        "    gl.grade_name,\n",
        "    COUNT(*) as parent_comments_count,\n",
        "    AI_AGG(hf.parent_comment, 'What are the main concerns and praises from parents?') as parent_sentiment_summary,\n",
        "    ROUND(AVG(hs.grade_received), 2) as avg_grade\n",
        "FROM homework_feedback hf\n",
        "JOIN homework_submissions hs ON hf.submission_id = hs.submission_id\n",
        "JOIN students s ON hs.student_id = s.student_id\n",
        "JOIN grade_levels gl ON s.grade_id = gl.grade_id\n",
        "WHERE hf.parent_comment IS NOT NULL\n",
        "GROUP BY gl.grade_name, gl.grade_level\n",
        "ORDER BY gl.grade_level;\n"
      ]
    },
    {
      "cell_type": "code",
      "execution_count": null,
      "metadata": {
        "vscode": {
          "languageId": "sql"
        }
      },
      "outputs": [],
      "source": [
        "### 🏷️ AI_CLASSIFY Function: Intelligent Categorization\n",
        "\n",
        "**AI_CLASSIFY** helps us categorize text data into meaningful groups, perfect for sentiment analysis and feedback classification.\n"
      ]
    },
    {
      "cell_type": "code",
      "execution_count": null,
      "metadata": {
        "vscode": {
          "languageId": "sql"
        }
      },
      "outputs": [],
      "source": [
        "-- Using AI_CLASSIFY to categorize homework feedback sentiment\n",
        "SELECT \n",
        "    hf.feedback_id,\n",
        "    sub.subject_name,\n",
        "    gl.grade_name,\n",
        "    hs.grade_received,\n",
        "    hf.teacher_feedback,\n",
        "    AI_CLASSIFY(hf.teacher_feedback, ['Positive', 'Constructive', 'Needs Improvement', 'Excellent']) as feedback_sentiment,\n",
        "    AI_CLASSIFY(hf.student_reflection, ['Confident', 'Struggling', 'Motivated', 'Frustrated']) as student_sentiment\n",
        "FROM homework_feedback hf\n",
        "JOIN homework_submissions hs ON hf.submission_id = hs.submission_id\n",
        "JOIN homework_assignments ha ON hs.assignment_id = ha.assignment_id\n",
        "JOIN classrooms c ON ha.classroom_id = c.classroom_id\n",
        "JOIN subjects sub ON c.subject_id = sub.subject_id\n",
        "JOIN students s ON hs.student_id = s.student_id\n",
        "JOIN grade_levels gl ON s.grade_id = gl.grade_id\n",
        "WHERE hf.teacher_feedback IS NOT NULL\n",
        "ORDER BY hf.feedback_id\n",
        "LIMIT 10;\n"
      ]
    },
    {
      "cell_type": "code",
      "execution_count": null,
      "metadata": {
        "vscode": {
          "languageId": "sql"
        }
      },
      "outputs": [],
      "source": [
        "-- Sentiment analysis summary by subject\n",
        "WITH classified_feedback AS (\n",
        "    SELECT \n",
        "        sub.subject_name,\n",
        "        AI_CLASSIFY(hf.teacher_feedback, ['Positive', 'Constructive', 'Needs Improvement', 'Excellent']) as feedback_sentiment,\n",
        "        AI_CLASSIFY(hf.parent_comment, ['Supportive', 'Concerned', 'Satisfied', 'Frustrated']) as parent_sentiment\n",
        "    FROM homework_feedback hf\n",
        "    JOIN homework_submissions hs ON hf.submission_id = hs.submission_id\n",
        "    JOIN homework_assignments ha ON hs.assignment_id = ha.assignment_id\n",
        "    JOIN classrooms c ON ha.classroom_id = c.classroom_id\n",
        "    JOIN subjects sub ON c.subject_id = sub.subject_id\n",
        "    WHERE hf.teacher_feedback IS NOT NULL\n",
        ")\n",
        "SELECT \n",
        "    subject_name,\n",
        "    feedback_sentiment,\n",
        "    COUNT(*) as sentiment_count,\n",
        "    ROUND(COUNT(*) * 100.0 / SUM(COUNT(*)) OVER (PARTITION BY subject_name), 2) as sentiment_percentage\n",
        "FROM classified_feedback\n",
        "GROUP BY subject_name, feedback_sentiment\n",
        "ORDER BY subject_name, sentiment_count DESC;\n"
      ]
    },
    {
      "cell_type": "code",
      "execution_count": null,
      "metadata": {
        "vscode": {
          "languageId": "sql"
        }
      },
      "outputs": [],
      "source": [
        "### 💡 AI_COMPLETE Function: Intelligent Content Generation\n",
        "\n",
        "**AI_COMPLETE** generates contextual content based on our data, perfect for creating personalized recommendations and insights.\n"
      ]
    },
    {
      "cell_type": "code",
      "execution_count": null,
      "metadata": {
        "vscode": {
          "languageId": "sql"
        }
      },
      "outputs": [],
      "source": [
        "-- Using AI_COMPLETE to generate personalized teacher recommendations\n",
        "WITH student_performance AS (\n",
        "    SELECT \n",
        "        s.student_id,\n",
        "        s.first_name || ' ' || s.last_name as student_name,\n",
        "        sub.subject_name,\n",
        "        gl.grade_name,\n",
        "        ROUND(AVG(hs.grade_received), 2) as avg_grade,\n",
        "        hf.teacher_feedback\n",
        "    FROM students s\n",
        "    JOIN homework_submissions hs ON s.student_id = hs.student_id\n",
        "    JOIN homework_assignments ha ON hs.assignment_id = ha.assignment_id\n",
        "    JOIN classrooms c ON ha.classroom_id = c.classroom_id\n",
        "    JOIN subjects sub ON c.subject_id = sub.subject_id\n",
        "    JOIN grade_levels gl ON s.grade_id = gl.grade_id\n",
        "    LEFT JOIN homework_feedback hf ON hs.submission_id = hf.submission_id\n",
        "    WHERE hs.grade_received IS NOT NULL\n",
        "    GROUP BY s.student_id, s.first_name, s.last_name, sub.subject_name, gl.grade_name, hf.teacher_feedback\n",
        "    HAVING AVG(hs.grade_received) < 90  -- Focus on students who could improve\n",
        ")\n",
        "SELECT \n",
        "    student_name,\n",
        "    subject_name,\n",
        "    grade_name,\n",
        "    avg_grade,\n",
        "    AI_COMPLETE(\n",
        "        'llama3.1-8b',\n",
        "        'Based on student performance data: Subject: ' || subject_name || \n",
        "        ', Grade Level: ' || grade_name || \n",
        "        ', Average Grade: ' || avg_grade || \n",
        "        ', Recent Feedback: ' || COALESCE(teacher_feedback, 'No feedback') || \n",
        "        '. Generate 3 specific, actionable recommendations for improving this student''s performance.'\n",
        "    ) as personalized_recommendations\n",
        "FROM student_performance\n",
        "LIMIT 5;\n"
      ]
    },
    {
      "cell_type": "code",
      "execution_count": null,
      "metadata": {
        "vscode": {
          "languageId": "sql"
        }
      },
      "outputs": [],
      "source": [
        "-- Generate curriculum insights by subject\n",
        "WITH subject_performance AS (\n",
        "    SELECT \n",
        "        sub.subject_name,\n",
        "        COUNT(DISTINCT s.student_id) as total_students,\n",
        "        ROUND(AVG(hs.grade_received), 2) as avg_performance\n",
        "    FROM subjects sub\n",
        "    JOIN classrooms c ON sub.subject_id = c.subject_id\n",
        "    JOIN homework_assignments ha ON c.classroom_id = ha.classroom_id\n",
        "    JOIN homework_submissions hs ON ha.assignment_id = hs.assignment_id\n",
        "    JOIN students s ON hs.student_id = s.student_id\n",
        "    WHERE hs.grade_received IS NOT NULL\n",
        "    GROUP BY sub.subject_id, sub.subject_name\n",
        ")\n",
        "SELECT \n",
        "    subject_name,\n",
        "    total_students,\n",
        "    avg_performance,\n",
        "    AI_COMPLETE(\n",
        "        'llama3.1-8b',\n",
        "        'Analyze this K-12 subject performance data: Subject: ' || subject_name || \n",
        "        ', Total Students: ' || total_students || \n",
        "        ', Average Performance: ' || avg_performance || \n",
        "        '%. Generate insights about curriculum effectiveness and suggest 3 improvements for this subject area.'\n",
        "    ) as curriculum_insights\n",
        "FROM subject_performance\n",
        "ORDER BY avg_performance DESC;\n"
      ]
    },
    {
      "cell_type": "code",
      "execution_count": null,
      "metadata": {
        "vscode": {
          "languageId": "sql"
        }
      },
      "outputs": [],
      "source": [
        "## 🔗 Complex Multi-Table Joins with AISQL\n",
        "\n",
        "Let's demonstrate complex analytical queries that combine multiple tables with AISQL functions.\n"
      ]
    },
    {
      "cell_type": "code",
      "execution_count": null,
      "metadata": {
        "vscode": {
          "languageId": "sql"
        }
      },
      "outputs": [],
      "source": [
        "-- Complex analysis: School performance dashboard with AI insights\n",
        "WITH comprehensive_analysis AS (\n",
        "    SELECT \n",
        "        sch.school_name,\n",
        "        gl.grade_name,\n",
        "        sub.subject_name,\n",
        "        c.teacher_name,\n",
        "        gl.grade_level,\n",
        "        COUNT(DISTINCT s.student_id) as total_students,\n",
        "        COUNT(DISTINCT ha.assignment_id) as total_assignments,\n",
        "        COUNT(hs.submission_id) as total_submissions,\n",
        "        ROUND(AVG(hs.grade_received), 2) as avg_grade,\n",
        "        COUNT(hf.feedback_id) as feedback_count,\n",
        "        LISTAGG(hf.teacher_feedback, ' | ') WITHIN GROUP (ORDER BY hf.feedback_id) as all_feedback\n",
        "    FROM schools sch\n",
        "    JOIN students s ON sch.school_id = s.school_id\n",
        "    JOIN grade_levels gl ON s.grade_id = gl.grade_id\n",
        "    JOIN classrooms c ON sch.school_id = c.school_id AND gl.grade_id = c.grade_id\n",
        "    JOIN subjects sub ON c.subject_id = sub.subject_id\n",
        "    JOIN homework_assignments ha ON c.classroom_id = ha.classroom_id\n",
        "    JOIN homework_submissions hs ON ha.assignment_id = hs.assignment_id AND s.student_id = hs.student_id\n",
        "    LEFT JOIN homework_feedback hf ON hs.submission_id = hf.submission_id\n",
        "    GROUP BY sch.school_id, school_name, gl.grade_id, gl.grade_name, sub.subject_id, sub.subject_name, c.classroom_id, c.teacher_name, gl.grade_level\n",
        ")\n",
        "SELECT \n",
        "    school_name,\n",
        "    grade_name,\n",
        "    subject_name,\n",
        "    teacher_name,\n",
        "    grade_level,\n",
        "    total_students,\n",
        "    avg_grade,\n",
        "    AI_CLASSIFY(\n",
        "        CASE \n",
        "            WHEN avg_grade >= 90 THEN 'Excellent Performance'\n",
        "            WHEN avg_grade >= 80 THEN 'Good Performance'\n",
        "            WHEN avg_grade >= 70 THEN 'Satisfactory Performance'\n",
        "            ELSE 'Needs Improvement'\n",
        "        END,\n",
        "        ['High Achieving', 'On Track', 'At Risk', 'Struggling']\n",
        "    ) as performance_category,\n",
        "    AI_AGG(all_feedback, 'Identify the top 3 challenges and successes for this classroom') as classroom_insights\n",
        "FROM comprehensive_analysis\n",
        "WHERE all_feedback IS NOT NULL\n",
        "GROUP BY \n",
        "    school_name, \n",
        "    grade_name, \n",
        "    subject_name, \n",
        "    teacher_name, \n",
        "    grade_level, \n",
        "    total_students, \n",
        "    avg_grade, \n",
        "    performance_category -- Include the performance_category alias\n",
        "ORDER BY grade_level desc, subject_name\n",
        "LIMIT 10;\n"
      ]
    },
    {
      "cell_type": "code",
      "execution_count": null,
      "metadata": {
        "vscode": {
          "languageId": "sql"
        }
      },
      "outputs": [],
      "source": [
        "## 📈 Data Visualizations\n",
        "\n",
        "Let's create beautiful visualizations to understand our data better.\n"
      ]
    },
    {
      "cell_type": "code",
      "execution_count": null,
      "metadata": {},
      "outputs": [],
      "source": [
        "# Create grade distribution visualization\n",
        "import streamlit as st\n",
        "import plotly.express as px\n",
        "import plotly.graph_objects as go\n",
        "import pandas as pd\n",
        "\n",
        "# Sample data for visualization (in real scenario, this would come from Snowflake)\n",
        "grade_data = {\n",
        "    'Subject': ['Math', 'Science', 'English', 'Social Studies', 'Art'] * 6,\n",
        "    'Grade_Level': ['K', '1st', '2nd', '3rd', '4th', '5th'] * 5,\n",
        "    'Average_Grade': [85, 88, 92, 78, 94, 82, 87, 91, 89, 86, 90, 85, 88, 83, 95, 79, 92, 87, 84, 89, 91, 88, 86, 90, 93, 81, 85, 89, 87, 92],\n",
        "    'Student_Count': [28, 30, 29, 31, 27, 32, 28, 30, 29, 31, 33, 29, 30, 28, 32, 31, 29, 30, 28, 33, 30, 29, 31, 28, 32, 30, 29, 31, 28, 33]\n",
        "}\n",
        "\n",
        "df = pd.DataFrame(grade_data)\n",
        "\n",
        "# Create grade distribution heatmap\n",
        "fig_heatmap = px.scatter(df, \n",
        "                        x='Grade_Level', \n",
        "                        y='Subject',\n",
        "                        size='Student_Count',\n",
        "                        color='Average_Grade',\n",
        "                        color_continuous_scale='RdYlGn',\n",
        "                        title='📊 Grade Distribution by Subject and Grade Level',\n",
        "                        labels={'Average_Grade': 'Avg Grade (%)', 'Student_Count': 'Students'})\n",
        "\n",
        "fig_heatmap.update_layout(\n",
        "    width=800,\n",
        "    height=500,\n",
        "    title_font_size=20,\n",
        "    xaxis_title_font_size=14,\n",
        "    yaxis_title_font_size=14\n",
        ")\n",
        "\n",
        "# Display the chart\n",
        "st.plotly_chart(fig_heatmap, use_container_width=True)\n",
        "print(\"Grade distribution visualization created! 📊\")\n"
      ]
    },
    {
      "cell_type": "code",
      "execution_count": null,
      "metadata": {},
      "outputs": [],
      "source": [
        "# Create sentiment analysis chart\n",
        "sentiment_data = {\n",
        "    'Subject': ['Math', 'Science', 'English', 'Social Studies', 'Art'],\n",
        "    'Positive': [65, 72, 78, 68, 85],\n",
        "    'Constructive': [25, 20, 15, 22, 12],\n",
        "    'Needs_Improvement': [10, 8, 7, 10, 3]\n",
        "}\n",
        "\n",
        "fig_sentiment = go.Figure()\n",
        "\n",
        "fig_sentiment.add_trace(go.Bar(\n",
        "    name='Positive',\n",
        "    x=sentiment_data['Subject'],\n",
        "    y=sentiment_data['Positive'],\n",
        "    marker_color='#2E8B57'\n",
        "))\n",
        "\n",
        "fig_sentiment.add_trace(go.Bar(\n",
        "    name='Constructive',\n",
        "    x=sentiment_data['Subject'],\n",
        "    y=sentiment_data['Constructive'],\n",
        "    marker_color='#FFD700'\n",
        "))\n",
        "\n",
        "fig_sentiment.add_trace(go.Bar(\n",
        "    name='Needs Improvement',\n",
        "    x=sentiment_data['Subject'],\n",
        "    y=sentiment_data['Needs_Improvement'],\n",
        "    marker_color='#DC143C'\n",
        "))\n",
        "\n",
        "fig_sentiment.update_layout(\n",
        "    title='🎭 Homework Feedback Sentiment Analysis by Subject',\n",
        "    xaxis_title='Subject',\n",
        "    yaxis_title='Percentage of Feedback',\n",
        "    barmode='stack',\n",
        "    width=800,\n",
        "    height=500,\n",
        "    title_font_size=20\n",
        ")\n",
        "\n",
        "st.plotly_chart(fig_sentiment, use_container_width=True)\n",
        "print(\"Sentiment analysis visualization created! 🎭\")\n"
      ]
    },
    {
      "cell_type": "code",
      "execution_count": null,
      "metadata": {},
      "outputs": [],
      "source": [
        "## 🎯 Key Insights & Recommendations\n",
        "\n",
        "Based on our AISQL analysis, here are the key insights:\n"
      ]
    },
    {
      "cell_type": "code",
      "execution_count": null,
      "metadata": {
        "vscode": {
          "languageId": "sql"
        }
      },
      "outputs": [],
      "source": [
        "-- Generate executive summary using AI_COMPLETE\n",
        "SELECT \n",
        "    AI_COMPLETE(\n",
        "        'llama3.1-8b',\n",
        "        'Based on comprehensive K-12 homework analysis data from Lincoln Elementary School covering ' ||\n",
        "        (SELECT COUNT(DISTINCT s.student_id) FROM students s) || ' students across ' ||\n",
        "        (SELECT COUNT(DISTINCT sub.subject_id) FROM subjects sub) || ' subjects and ' ||\n",
        "        (SELECT COUNT(DISTINCT gl.grade_id) FROM grade_levels gl) || ' grade levels, ' ||\n",
        "        'with an overall average grade of ' || \n",
        "        (SELECT ROUND(AVG(hs.grade_received), 2) FROM homework_submissions hs WHERE hs.grade_received IS NOT NULL) || \n",
        "        '%, generate an executive summary with 5 key insights and 3 strategic recommendations for improving student outcomes.'\n",
        "    ) as executive_summary;\n"
      ]
    },
    {
      "cell_type": "code",
      "execution_count": null,
      "metadata": {
        "vscode": {
          "languageId": "sql"
        }
      },
      "outputs": [],
      "source": [
        "## 🎉 Conclusion\n",
        "\n",
        "This notebook demonstrated the power of **Snowflake Cortex AISQL functions** in transforming K-12 education data analysis:\n",
        "\n",
        "### ✅ What We Accomplished:\n",
        "- **AI_AGG**: Summarized complex feedback data into actionable insights\n",
        "- **AI_CLASSIFY**: Categorized sentiment and performance levels automatically\n",
        "- **AI_COMPLETE**: Generated personalized recommendations and strategic insights\n",
        "- **Complex Joins**: Analyzed data across multiple tables seamlessly\n",
        "- **Visualizations**: Created beautiful charts to communicate findings\n",
        "\n",
        "### 🚀 Benefits for K-12 SaaS Products:\n",
        "1. **Automated Insights**: Reduce manual analysis time by 80%\n",
        "2. **Personalized Learning**: Generate custom recommendations for each student\n",
        "3. **Teacher Efficiency**: Provide actionable feedback summaries\n",
        "4. **Parent Engagement**: Better communication through sentiment analysis\n",
        "5. **Data-Driven Decisions**: Make informed curriculum improvements\n",
        "\n",
        "### 💡 Next Steps:\n",
        "- Implement real-time feedback analysis\n",
        "- Create automated alert systems for at-risk students\n",
        "- Develop predictive models for student success\n",
        "- Build interactive dashboards for stakeholders\n",
        "\n",
        "**Ready to revolutionize your K-12 data analysis with Snowflake Cortex AISQL? Let's get started!** 🎓✨\n"
      ]
    }
  ],
  "metadata": {
    "language_info": {
      "name": "python"
    }
  },
  "nbformat": 4,
  "nbformat_minor": 2
}
